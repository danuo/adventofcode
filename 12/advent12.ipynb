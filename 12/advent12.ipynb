{
 "cells": [
  {
   "cell_type": "code",
   "execution_count": 1,
   "metadata": {},
   "outputs": [
    {
     "output_type": "stream",
     "name": "stdout",
     "text": [
      "result 1:  858\n"
     ]
    }
   ],
   "source": [
    "# ─── CHALLENGE 1 ────────────────────────────────────────────────────────────────\n",
    "\n",
    "import numpy as np\n",
    "from functools import reduce\n",
    "\n",
    "with open('input') as file:\n",
    "    lines = file.read().splitlines()\n",
    "\n",
    "# orientation of coordinate system:\n",
    "# y/north\n",
    "# ^ \n",
    "# |    \n",
    "# +───> x/east\n",
    "\n",
    "class Ship():\n",
    "    def __init__(self):\n",
    "        self.reset()\n",
    "        \n",
    "    def reset(self):\n",
    "        self.x = 0\n",
    "        self.y = 0\n",
    "        self.ang = 0\n",
    "        self.wx = 10\n",
    "        self.wy = 1\n",
    "\n",
    "    def mnorm(self):\n",
    "        return abs(ship.x)+abs(ship.y)\n",
    "\n",
    "    def step1(self, input):  # applies the rules according to challenge 1\n",
    "        instruction = input[0]\n",
    "        val = int(input[1:])\n",
    "        if instruction in ['N', 'S']:\n",
    "            self.y += val if instruction == 'N' else -val\n",
    "        if instruction in ['E', 'W']:\n",
    "            self.x += val if instruction == 'E' else -val\n",
    "        if instruction in ['L', 'R']:\n",
    "            self.ang += val if instruction == 'L' else -val\n",
    "            self.ang = self.ang % 360\n",
    "        if instruction == 'F':\n",
    "            if self.ang in [0,180]:\n",
    "                self.x += val if self.ang == 0 else -val\n",
    "            if self.ang in [90,270]:\n",
    "                self.y += val if self.ang == 90 else -val\n",
    "\n",
    "    def step2(self, input):  # applies the rules according to challenge 2\n",
    "        instruction = input[0]\n",
    "        val = int(input[1:])\n",
    "        if instruction in ['N', 'S']:\n",
    "            self.wy += val if instruction == 'N' else -val\n",
    "        if instruction in ['E', 'W']:\n",
    "            self.wx += val if instruction == 'E' else -val\n",
    "        if instruction in ['L', 'R']:\n",
    "            sign = 1 if instruction == 'L' else -1\n",
    "            while val > 0:\n",
    "                self.wx, self.wy = - self.wy * sign, self.wx * sign\n",
    "                val -= 90\n",
    "        if instruction == 'F':\n",
    "            self.x += val * self.wx\n",
    "            self.y += val * self.wy\n",
    "\n",
    "ship = Ship()\n",
    "for line in lines:\n",
    "    ship.step1(line)\n",
    "print('result 1: ', ship.mnorm())"
   ]
  },
  {
   "cell_type": "code",
   "execution_count": 2,
   "metadata": {},
   "outputs": [
    {
     "output_type": "stream",
     "name": "stdout",
     "text": [
      "result 2:  39140\n"
     ]
    }
   ],
   "source": [
    "# ─── CHALLENGE 2 ────────────────────────────────────────────────────────────────\r\n",
    "    \r\n",
    "ship.reset()\r\n",
    "for line in lines:\r\n",
    "    ship.step2(line)\r\n",
    "print('result 2: ', ship.mnorm())"
   ]
  },
  {
   "cell_type": "code",
   "execution_count": null,
   "metadata": {},
   "outputs": [],
   "source": []
  }
 ],
 "metadata": {
  "kernelspec": {
   "display_name": "Python 3",
   "language": "python",
   "name": "python3"
  },
  "language_info": {
   "codemirror_mode": {
    "name": "ipython",
    "version": 3
   },
   "file_extension": ".py",
   "mimetype": "text/x-python",
   "name": "python",
   "nbconvert_exporter": "python",
   "pygments_lexer": "ipython3",
   "version": "3.8.3-final"
  },
  "orig_nbformat": 2
 },
 "nbformat": 4,
 "nbformat_minor": 2
}