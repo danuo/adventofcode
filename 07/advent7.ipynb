{
 "cells": [
  {
   "cell_type": "code",
   "execution_count": 1,
   "metadata": {},
   "outputs": [
    {
     "name": "stdout",
     "output_type": "stream",
     "text": [
      "result 1:  242\n"
     ]
    }
   ],
   "source": [
    "# ─── CHALLENGE 1 ────────────────────────────────────────────────────────────────\r\n",
    "\r\n",
    "import re\r\n",
    "\r\n",
    "with open('input') as file:\r\n",
    "    lines = file.read().replace(' ', '').splitlines()\r\n",
    "\r\n",
    "unique_color_set = set()\r\n",
    "child_to_parent_dict = dict()\r\n",
    "# key   = child_color  : str\r\n",
    "# value = parent_colors: list of str = [parent_color: str, ]\r\n",
    "\r\n",
    "# get all child -> parent relations\r\n",
    "for line in lines:\r\n",
    "    result = re.search(r'([\\w ]*)(?:bagscontain)([\\w\\d,.]*)', line)\r\n",
    "    parent_color, child_string = result.groups()\r\n",
    "    if child_string.startswith('no'):\r\n",
    "        continue\r\n",
    "    child_items = re.findall(r'(\\d{1,2})([\\w ]*)(?:bags|bag)[^\\w]', child_string)\r\n",
    "    for child_n, child_color in child_items:\r\n",
    "        current_entry = child_to_parent_dict.get(child_color, None)\r\n",
    "        if current_entry:\r\n",
    "            current_entry.append(parent_color)\r\n",
    "        else:\r\n",
    "            child_to_parent_dict.update({child_color: [parent_color]})\r\n",
    "\r\n",
    "def traverse_up(child):\r\n",
    "    parents = child_to_parent_dict.get(child)\r\n",
    "    if not parents:\r\n",
    "        return\r\n",
    "    for parent in parents:\r\n",
    "        unique_color_set.add(parent)\r\n",
    "        traverse_up(parent)\r\n",
    "\r\n",
    "traverse_up('shinygold')\r\n",
    "print('result 1: ', len(unique_color_set))"
   ]
  },
  {
   "cell_type": "code",
   "execution_count": 2,
   "metadata": {},
   "outputs": [
    {
     "name": "stdout",
     "output_type": "stream",
     "text": [
      "result 2:  176035\n"
     ]
    }
   ],
   "source": [
    "# ─── CHALLENGE 2 ────────────────────────────────────────────────────────────────\r\n",
    "\r\n",
    "counter = 0\r\n",
    "parent_to_child_dict = dict()\r\n",
    "# key   = parent_color: str\r\n",
    "# value = childs      : list of tuples = [(child_n: str, child_color: str)), ]\r\n",
    "\r\n",
    "# get all parents -> child relations\r\n",
    "for line in lines:\r\n",
    "    result = re.search(r'([\\w ]*)(?:bagscontain)([\\w\\d,.]*)', line)\r\n",
    "    parent_color, child_string = result.groups()\r\n",
    "    if child_string.startswith('no'):\r\n",
    "        continue\r\n",
    "    child_items = re.findall(r'(\\d{1,2})([\\w ]*)(?:bags|bag)[^\\w]', child_string)\r\n",
    "    parent_to_child_dict.update({parent_color: child_items})\r\n",
    "\r\n",
    "def traverse_down(parent_n, item):\r\n",
    "    global counter\r\n",
    "    childs = parent_to_child_dict.get(item)\r\n",
    "    if not childs:\r\n",
    "        return\r\n",
    "    for child_n, child_color in childs:\r\n",
    "        n = parent_n * int(child_n)\r\n",
    "        counter += n\r\n",
    "        traverse_down(n, child_color)\r\n",
    "\r\n",
    "traverse_down(1, 'shinygold')\r\n",
    "print('result 2: ', counter)"
   ]
  }
 ],
 "metadata": {
  "kernelspec": {
   "display_name": "Python 3",
   "name": "python3"
  },
  "language_info": {
   "codemirror_mode": {
    "name": "ipython",
    "version": 3
   },
   "file_extension": ".py",
   "mimetype": "text/x-python",
   "name": "python",
   "nbconvert_exporter": "python",
   "pygments_lexer": "ipython3",
   "version": "3.8.3"
  },
  "orig_nbformat": 2
 },
 "nbformat": 4,
 "nbformat_minor": 2
}
