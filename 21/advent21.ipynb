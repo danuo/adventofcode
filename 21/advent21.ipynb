{
 "metadata": {
  "language_info": {
   "codemirror_mode": {
    "name": "ipython",
    "version": 3
   },
   "file_extension": ".py",
   "mimetype": "text/x-python",
   "name": "python",
   "nbconvert_exporter": "python",
   "pygments_lexer": "ipython3",
   "version": "3.8.3-final"
  },
  "orig_nbformat": 2,
  "kernelspec": {
   "name": "python3",
   "display_name": "Python 3",
   "language": "python"
  }
 },
 "nbformat": 4,
 "nbformat_minor": 2,
 "cells": [
  {
   "cell_type": "code",
   "execution_count": 1,
   "metadata": {},
   "outputs": [],
   "source": [
    "# ─── PARSE INPUT ────────────────────────────────────────────────────────────────\n",
    "\n",
    "with open('input') as file:\n",
    "    lines = file.read().splitlines()\n",
    "\n",
    "ingredients_set = set()\n",
    "allergen_set = set()\n",
    "list_of_foods = [(set(), set()) for _ in lines]\n",
    "for idx, line in enumerate(lines):\n",
    "    line = line.strip(')').replace(',', '')\n",
    "    ingredients, allergens = line.split('(contains')\n",
    "    ingredients = ingredients.split()\n",
    "    allergens = allergens.split()\n",
    "\n",
    "    for i in ingredients:\n",
    "        list_of_foods[idx][0].add(i)\n",
    "        ingredients_set.add(i)\n",
    "        \n",
    "    for a in allergens:\n",
    "        list_of_foods[idx][1].add(a)\n",
    "        allergen_set.add(a)\n",
    "\n",
    "\n",
    "assigned_allergens = []\n",
    "assigned_ingredients = []\n",
    "\n",
    "\n",
    "for _ in range(3):\n",
    "    for a in allergen_set:\n",
    "        ing_sets = []\n",
    "        for ings, algs in list_of_foods:\n",
    "            if a in algs:\n",
    "                ing_sets.append(ings)\n",
    "        intersecting = set.intersection(*ing_sets)\n",
    "        intersecting = intersecting-set(assigned_ingredients)\n",
    "        if len(intersecting) == 1:\n",
    "            i = list(intersecting)[0]\n",
    "            assigned_allergens.append(a)\n",
    "            assigned_ingredients.append(i)\n",
    "\n",
    "unassigned_ingredients = ingredients_set-set(assigned_ingredients)"
   ]
  },
  {
   "cell_type": "code",
   "execution_count": 2,
   "metadata": {},
   "outputs": [
    {
     "output_type": "stream",
     "name": "stdout",
     "text": [
      "result 1:  1885\n"
     ]
    }
   ],
   "source": [
    "# ─── CHALLENGE 1 ────────────────────────────────────────────────────────────────\n",
    "\n",
    "counter = 0\n",
    "for ings, algs in list_of_foods:\n",
    "    for i in ings:\n",
    "        if i in unassigned_ingredients:\n",
    "            counter += 1\n",
    "\n",
    "print('result 1: ', counter)"
   ]
  },
  {
   "cell_type": "code",
   "execution_count": 3,
   "metadata": {},
   "outputs": [
    {
     "output_type": "stream",
     "name": "stdout",
     "text": [
      "result 2:  fllssz,kgbzf,zcdcdf,pzmg,kpsdtv,fvvrc,dqbjj,qpxhfp\n"
     ]
    }
   ],
   "source": [
    "# ─── CHALLENGE 2 ────────────────────────────────────────────────────────────────\n",
    "\n",
    "al_ing_list = list(zip(assigned_allergens, assigned_ingredients))\n",
    "al_ing_list.sort()\n",
    "result2 = ','.join([ing for alg, ing in al_ing_list])\n",
    "print('result 2: ', result2)"
   ]
  }
 ]
}