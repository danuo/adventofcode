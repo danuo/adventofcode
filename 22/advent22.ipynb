{
 "metadata": {
  "language_info": {
   "codemirror_mode": {
    "name": "ipython",
    "version": 3
   },
   "file_extension": ".py",
   "mimetype": "text/x-python",
   "name": "python",
   "nbconvert_exporter": "python",
   "pygments_lexer": "ipython3",
   "version": "3.8.3-final"
  },
  "orig_nbformat": 2,
  "kernelspec": {
   "name": "python3",
   "display_name": "Python 3",
   "language": "python"
  }
 },
 "nbformat": 4,
 "nbformat_minor": 2,
 "cells": [
  {
   "cell_type": "code",
   "execution_count": 1,
   "metadata": {},
   "outputs": [],
   "source": [
    "# ─── PARSE INPUT ────────────────────────────────────────────────────────────────\n",
    "\n",
    "with open('input') as file:\n",
    "    lines = file.read()\n",
    "\n",
    "class Game():\n",
    "    def __init__(self, deck1, deck2, challenge=0):\n",
    "        self.game_set = set()\n",
    "        self.challenge = challenge\n",
    "        self.p1_init = list(deck1)\n",
    "        self.p2_init = list(deck2)\n",
    "\n",
    "    def set_ruleset(self, challenge):\n",
    "        self.challenge=challenge\n",
    "\n",
    "    def run_game(self):\n",
    "        self.p1 = self.p1_init.copy()\n",
    "        self.p2 = self.p2_init.copy()\n",
    "        while True:\n",
    "            # challenge 2 extra rules\n",
    "            if self.challenge == 2:\n",
    "                # check if current deck state occured before\n",
    "                string = self.calculate_string()\n",
    "                if string in self.game_set:\n",
    "                    return 0  # player 1 wins\n",
    "                self.game_set.add(string)\n",
    "\n",
    "            # challenge 1\n",
    "            self.step()\n",
    "            if len(self.p1) == 0 :\n",
    "                return 1\n",
    "            if len(self.p2) == 0:\n",
    "                return 0\n",
    "\n",
    "    def calculate_string(self):\n",
    "        string = ''.join([str(i) for i in self.p1]+['_']+\n",
    "                         [str(i) for i in self.p2])\n",
    "        return string\n",
    "\n",
    "    def calculate_score(self):\n",
    "        final_deck = self.p1 if len(self.p1) else self.p2\n",
    "        final_deck.reverse()\n",
    "        counter = 0\n",
    "        for i, item in enumerate(final_deck, start=1):\n",
    "            counter += i * item\n",
    "        string = 'result 2: ' if self.challenge == 2 else 'result 1: '\n",
    "        print(string, counter)\n",
    "\n",
    "    def step(self):\n",
    "        num1, num2 = self.p1.pop(0), self.p2.pop(0)\n",
    "\n",
    "        # enter challenge 2subgame\n",
    "        if all([self.challenge == 2,\n",
    "                num1 <= len(self.p1),\n",
    "                num2 <= len(self.p2)]):\n",
    "            self.subgame = Game(self.p1[:num1], self.p2[:num2], challenge=2)\n",
    "            result = self.subgame.run_game()\n",
    "        elif num1 > num2:\n",
    "            result = 0\n",
    "        else:\n",
    "            result = 1\n",
    "\n",
    "        # apply result\n",
    "        if result == 0:\n",
    "            self.p1.append(num1)\n",
    "            self.p1.append(num2)\n",
    "        elif result == 1:\n",
    "            self.p2.append(num2)\n",
    "            self.p2.append(num1)\n",
    "\n",
    "lines = lines.split('\\n\\n')\n",
    "deck1, deck2 = [], []\n",
    "for c1, c2 in zip(lines[0].splitlines()[1:], lines[1].splitlines()[1:]):\n",
    "    deck1.append(int(c1))\n",
    "    deck2.append(int(c2))"
   ]
  },
  {
   "cell_type": "code",
   "execution_count": 2,
   "metadata": {},
   "outputs": [
    {
     "output_type": "stream",
     "name": "stdout",
     "text": [
      "result 1:  32815\n"
     ]
    }
   ],
   "source": [
    "# ─── CHALLENGE 1 ────────────────────────────────────────────────────────────────\n",
    "\n",
    "game = Game(deck1, deck2)\n",
    "game.run_game()\n",
    "game.calculate_score()"
   ]
  },
  {
   "cell_type": "code",
   "execution_count": 3,
   "metadata": {},
   "outputs": [
    {
     "output_type": "stream",
     "name": "stdout",
     "text": [
      "result 2:  30695\n"
     ]
    }
   ],
   "source": [
    "# ─── CHALLENGE 2 ────────────────────────────────────────────────────────────────\n",
    "\n",
    "game.set_ruleset(2)\n",
    "game.run_game()\n",
    "game.calculate_score()"
   ]
  }
 ]
}