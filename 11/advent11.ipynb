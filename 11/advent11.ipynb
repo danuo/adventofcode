{
 "cells": [
  {
   "cell_type": "code",
   "execution_count": 1,
   "metadata": {},
   "outputs": [
    {
     "name": "stdout",
     "output_type": "stream",
     "text": [
      "result 2:  2194\n"
     ]
    }
   ],
   "source": [
    "# ─── CHALLENGE 1 ────────────────────────────────────────────────────────────────\r\n",
    "\r\n",
    "import numpy as np\r\n",
    "from functools import reduce\r\n",
    "\r\n",
    "with open('input') as file:\r\n",
    "    lines = file.read().splitlines()\r\n",
    "\r\n",
    "int_lists = []\r\n",
    "replacements = (('.', '0'), ('L', '1'), ('#', '2'))\r\n",
    "for line in lines:\r\n",
    "    string = reduce(lambda a, kv: a.replace(*kv), replacements, line)\r\n",
    "    int_list = [int(char) for char in string]\r\n",
    "    int_lists.append(int_list)\r\n",
    "\r\n",
    "state = np.array(int_lists)\r\n",
    "n,m = state.shape\r\n",
    "\r\n",
    "def check_index(i,j):\r\n",
    "    return all([0 <= i < n,\r\n",
    "                0 <= j < m,])\r\n",
    "\r\n",
    "def get_indices():\r\n",
    "    index_list = []\r\n",
    "    for i in range(-1,2):\r\n",
    "        for j in range(-1,2):\r\n",
    "            if (i,j) != (0,0):\r\n",
    "                index_list.append((i, j))\r\n",
    "    return index_list\r\n",
    "\r\n",
    "direction_tuples = get_indices()\r\n",
    "\r\n",
    "while True:  # execute till state does not change\r\n",
    "    state_new = state.copy()\r\n",
    "\r\n",
    "    for (i, j), value in np.ndenumerate(state):\r\n",
    "        count_adjacent = 0\r\n",
    "        for direction in range(8):\r\n",
    "            i_new = i + direction_tuples[direction][0]\r\n",
    "            j_new = j + direction_tuples[direction][1]\r\n",
    "            if check_index(i_new, j_new):\r\n",
    "                if state[i_new, j_new] == 2:\r\n",
    "                    count_adjacent += 1\r\n",
    "\r\n",
    "        # rule 1 - seats next to zero occupied seats become occupied\r\n",
    "        if state[i, j] == 1:\r\n",
    "            if count_adjacent == 0:\r\n",
    "                state_new[i, j] = 2\r\n",
    "\r\n",
    "        # rule 2 - seats to 4 ore more occupied seats become empty \r\n",
    "        if state[i, j] == 2:\r\n",
    "            if count_adjacent >= 4:\r\n",
    "                state_new[i, j] = 1\r\n",
    "\r\n",
    "    if np.equal(state, state_new).all():  # stop with equilibrium\r\n",
    "        break\r\n",
    "    state = state_new\r\n",
    "\r\n",
    "print('result 2: ', np.count_nonzero(np.where(state == 2, 1, 0)))"
   ]
  },
  {
   "cell_type": "code",
   "execution_count": 2,
   "metadata": {},
   "outputs": [
    {
     "name": "stdout",
     "output_type": "stream",
     "text": [
      "no change after \n",
      "result 2:  1944\n"
     ]
    }
   ],
   "source": [
    "# ─── CHALLENGE 2 ────────────────────────────────────────────────────────────────\r\n",
    "\r\n",
    "state = np.array(int_lists)\r\n",
    "while True:  # execute till state does not change\r\n",
    "    state_new = state.copy()\r\n",
    "    for (i, j), value in np.ndenumerate(state):\r\n",
    "        count_adjacent = 0\r\n",
    "        for direction in range(8):\r\n",
    "            i_new = i\r\n",
    "            j_new = j\r\n",
    "            while True:  # traverse until seat is found or edge reached\r\n",
    "                i_new = i_new + direction_tuples[direction][0]\r\n",
    "                j_new = j_new + direction_tuples[direction][1]\r\n",
    "                if not check_index(i_new,j_new): # out of bounds\r\n",
    "                    break\r\n",
    "                else:\r\n",
    "                    if state[i, j] == 0:\r\n",
    "                        continue  # traverse further in same direction\r\n",
    "                    if state[i_new, j_new] == 1:\r\n",
    "                        # seat empty, next direction\r\n",
    "                        break\r\n",
    "                    if state[i_new, j_new] == 2:\r\n",
    "                        # seat taken, count\r\n",
    "                        count_adjacent += 1\r\n",
    "                        break\r\n",
    "\r\n",
    "        # rule 1 - seats that don't see occupied seats become occupied\r\n",
    "        if state[i, j] == 1:\r\n",
    "            if count_adjacent == 0:\r\n",
    "                state_new[i, j] = 2\r\n",
    "        \r\n",
    "        # rule 2 - seats that see more or equal to 5 occupied seats become empty \r\n",
    "        if state[i, j] == 2:\r\n",
    "            if count_adjacent >= 5:\r\n",
    "                state_new[i, j] = 1\r\n",
    "\r\n",
    "    if np.equal(state, state_new).all():\r\n",
    "        break\r\n",
    "    state = state_new\r\n",
    "\r\n",
    "print('result 2: ', np.count_nonzero(np.where(state == 2, 1, 0)))"
   ]
  }
 ],
 "metadata": {
  "kernelspec": {
   "display_name": "Python 3",
   "language": "python",
   "name": "python3"
  },
  "language_info": {
   "codemirror_mode": {
    "name": "ipython",
    "version": 3
   },
   "file_extension": ".py",
   "mimetype": "text/x-python",
   "name": "python",
   "nbconvert_exporter": "python",
   "pygments_lexer": "ipython3",
   "version": "3.8.3"
  },
  "orig_nbformat": 2
 },
 "nbformat": 4,
 "nbformat_minor": 2
}